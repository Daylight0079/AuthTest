{
  "nbformat": 4,
  "nbformat_minor": 0,
  "metadata": {
    "colab": {
      "provenance": [],
      "include_colab_link": true
    },
    "kernelspec": {
      "name": "ir",
      "display_name": "R"
    },
    "language_info": {
      "name": "R"
    }
  },
  "cells": [
    {
      "cell_type": "markdown",
      "metadata": {
        "id": "view-in-github",
        "colab_type": "text"
      },
      "source": [
        "<a href=\"https://colab.research.google.com/github/Daylight0079/AuthTest/blob/master/Learn_R_Syntax.ipynb\" target=\"_parent\"><img src=\"https://colab.research.google.com/assets/colab-badge.svg\" alt=\"Open In Colab\"/></a>"
      ]
    },
    {
      "cell_type": "markdown",
      "source": [
        "### R 타입"
      ],
      "metadata": {
        "id": "v0M6UJFJ_ttJ"
      }
    },
    {
      "cell_type": "code",
      "source": [],
      "metadata": {
        "id": "GP6eb2snaE0p"
      },
      "execution_count": null,
      "outputs": []
    },
    {
      "cell_type": "code",
      "source": [
        "# Vector type\n",
        "num <- c(1, 2, 3)\n",
        "cat <- c(\"apple\", \"banana\", \"cherry\")"
      ],
      "metadata": {
        "colab": {
          "base_uri": "https://localhost:8080/"
        },
        "id": "G0Fm4jJ2_xBY",
        "outputId": "d2724043-2e67-4048-c098-cad173ce1edd"
      },
      "execution_count": null,
      "outputs": [
        {
          "output_type": "stream",
          "name": "stdout",
          "text": [
            "[1] 1 2 3\n"
          ]
        }
      ]
    },
    {
      "cell_type": "code",
      "source": [
        "print(num)\n",
        "print(num*num)\n",
        "print(num+num)"
      ],
      "metadata": {
        "colab": {
          "base_uri": "https://localhost:8080/"
        },
        "id": "zhzU4JPrAGXV",
        "outputId": "ee0c9cf9-0286-4729-aed5-0af6d18e8495"
      },
      "execution_count": null,
      "outputs": [
        {
          "output_type": "stream",
          "name": "stdout",
          "text": [
            "[1] 1 2 3\n",
            "[1] 1 4 9\n",
            "[1] 2 4 6\n"
          ]
        }
      ]
    },
    {
      "cell_type": "code",
      "source": [
        "# Matrix type\n",
        "mat <- matrix(1:9, nrow=3, ncol=3)"
      ],
      "metadata": {
        "id": "mC5vkHedANrV"
      },
      "execution_count": null,
      "outputs": []
    },
    {
      "cell_type": "code",
      "source": [
        "print(mat)"
      ],
      "metadata": {
        "colab": {
          "base_uri": "https://localhost:8080/"
        },
        "id": "TAULZfhAAVlB",
        "outputId": "8c4d3d17-fd8a-43e8-dea5-e8a596394b00"
      },
      "execution_count": null,
      "outputs": [
        {
          "output_type": "stream",
          "name": "stdout",
          "text": [
            "     [,1] [,2] [,3]\n",
            "[1,]    1    4    7\n",
            "[2,]    2    5    8\n",
            "[3,]    3    6    9\n"
          ]
        }
      ]
    },
    {
      "cell_type": "code",
      "source": [
        "print(mat[1,])"
      ],
      "metadata": {
        "colab": {
          "base_uri": "https://localhost:8080/"
        },
        "id": "ENE0lR3kAbBW",
        "outputId": "4ddfd931-c89f-4ec2-ffcd-00cf85f4ba30"
      },
      "execution_count": null,
      "outputs": [
        {
          "output_type": "stream",
          "name": "stdout",
          "text": [
            "[1] 1 4 7\n"
          ]
        }
      ]
    },
    {
      "cell_type": "code",
      "source": [
        "print(mat[,2])"
      ],
      "metadata": {
        "colab": {
          "base_uri": "https://localhost:8080/"
        },
        "id": "ZTpGnorAAk8i",
        "outputId": "abfbfe0f-a900-49f8-b806-18c811c4953a"
      },
      "execution_count": null,
      "outputs": [
        {
          "output_type": "stream",
          "name": "stdout",
          "text": [
            "[1] 4 5 6\n"
          ]
        }
      ]
    },
    {
      "cell_type": "code",
      "source": [
        "print(mat[3,3])"
      ],
      "metadata": {
        "colab": {
          "base_uri": "https://localhost:8080/"
        },
        "id": "wqJv2mjlAnQp",
        "outputId": "e54a5138-9422-4a96-a902-765548c2b9ee"
      },
      "execution_count": null,
      "outputs": [
        {
          "output_type": "stream",
          "name": "stdout",
          "text": [
            "[1] 9\n"
          ]
        }
      ]
    },
    {
      "cell_type": "code",
      "source": [
        "# Array type\n",
        "a <- array(1:8, dim = c(2, 2, 2))"
      ],
      "metadata": {
        "id": "Zhr1fubhAuJy"
      },
      "execution_count": null,
      "outputs": []
    },
    {
      "cell_type": "code",
      "source": [
        "print(a)"
      ],
      "metadata": {
        "colab": {
          "base_uri": "https://localhost:8080/"
        },
        "id": "h6u8em2iBJQ8",
        "outputId": "a18679be-e3d7-4e2e-dff4-cb3bc310211d"
      },
      "execution_count": null,
      "outputs": [
        {
          "output_type": "stream",
          "name": "stdout",
          "text": [
            ", , 1\n",
            "\n",
            "     [,1] [,2]\n",
            "[1,]    1    3\n",
            "[2,]    2    4\n",
            "\n",
            ", , 2\n",
            "\n",
            "     [,1] [,2]\n",
            "[1,]    5    7\n",
            "[2,]    6    8\n",
            "\n"
          ]
        }
      ]
    },
    {
      "cell_type": "code",
      "source": [
        "print(a[1,,])"
      ],
      "metadata": {
        "colab": {
          "base_uri": "https://localhost:8080/"
        },
        "id": "_Qrbf4ZbA-oT",
        "outputId": "d7235e90-133a-4ef3-f37c-acffc7093582"
      },
      "execution_count": null,
      "outputs": [
        {
          "output_type": "stream",
          "name": "stdout",
          "text": [
            "     [,1] [,2]\n",
            "[1,]    1    5\n",
            "[2,]    3    7\n"
          ]
        }
      ]
    },
    {
      "cell_type": "code",
      "source": [
        "# List 타입\n",
        "l <- list(name=\"Alice\", age=25, scores=c(90, 80, 85))"
      ],
      "metadata": {
        "id": "OSACh0xuClMa"
      },
      "execution_count": null,
      "outputs": []
    },
    {
      "cell_type": "code",
      "source": [
        "print(l[1])"
      ],
      "metadata": {
        "colab": {
          "base_uri": "https://localhost:8080/"
        },
        "id": "i4_OADFqCp-3",
        "outputId": "be817d7b-c59f-4a9f-a9d5-9438b007108c"
      },
      "execution_count": null,
      "outputs": [
        {
          "output_type": "stream",
          "name": "stdout",
          "text": [
            "$name\n",
            "[1] \"Alice\"\n",
            "\n"
          ]
        }
      ]
    },
    {
      "cell_type": "code",
      "source": [
        "print(l$name)"
      ],
      "metadata": {
        "colab": {
          "base_uri": "https://localhost:8080/"
        },
        "id": "zhWRmVkOCw5z",
        "outputId": "98ced0d8-5107-4d67-dd49-9e11cf1c1c73"
      },
      "execution_count": null,
      "outputs": [
        {
          "output_type": "stream",
          "name": "stdout",
          "text": [
            "[1] \"Alice\"\n"
          ]
        }
      ]
    },
    {
      "cell_type": "code",
      "source": [
        "print(l$scores[2])"
      ],
      "metadata": {
        "colab": {
          "base_uri": "https://localhost:8080/"
        },
        "id": "L1OuXDs_C0pT",
        "outputId": "5c682593-3599-4962-aee7-c73e6abe68b9"
      },
      "execution_count": null,
      "outputs": [
        {
          "output_type": "stream",
          "name": "stdout",
          "text": [
            "[1] 80\n"
          ]
        }
      ]
    },
    {
      "cell_type": "code",
      "source": [
        "# Factor 타입\n",
        "gender <- factor(c(\"male\", \"female\", \"male\"))"
      ],
      "metadata": {
        "id": "l6Wz6nhNBLZg"
      },
      "execution_count": null,
      "outputs": []
    },
    {
      "cell_type": "code",
      "source": [
        "print(gender[1])"
      ],
      "metadata": {
        "colab": {
          "base_uri": "https://localhost:8080/"
        },
        "id": "e8U_cq46BVM_",
        "outputId": "3be4519e-df3f-4df6-eac6-0b64e1ac7938"
      },
      "execution_count": null,
      "outputs": [
        {
          "output_type": "stream",
          "name": "stdout",
          "text": [
            "[1] male\n",
            "Levels: female male\n"
          ]
        }
      ]
    },
    {
      "cell_type": "code",
      "execution_count": null,
      "metadata": {
        "id": "-8tpEbktF-FL"
      },
      "outputs": [],
      "source": [
        "x <- 10\n",
        "y <- x + 10"
      ]
    },
    {
      "cell_type": "code",
      "source": [
        "print(x)\n",
        "print(y)"
      ],
      "metadata": {
        "colab": {
          "base_uri": "https://localhost:8080/"
        },
        "id": "twjVVA5LHt5N",
        "outputId": "cefb617a-ce56-4f25-ccde-cc7f8e355586"
      },
      "execution_count": null,
      "outputs": [
        {
          "output_type": "stream",
          "name": "stdout",
          "text": [
            "[1] 10\n",
            "[1] 20\n"
          ]
        }
      ]
    },
    {
      "cell_type": "code",
      "source": [
        "d <- data.frame(name = c(\"Alice\", \"Bob\", \"Charlie\"), age = c(25, 30, 35))\n",
        "print(d$name)"
      ],
      "metadata": {
        "colab": {
          "base_uri": "https://localhost:8080/"
        },
        "id": "8VmQXio2H8Pz",
        "outputId": "675d61f8-cb02-4631-b9d8-bcf2d8a1fe0c"
      },
      "execution_count": null,
      "outputs": [
        {
          "output_type": "stream",
          "name": "stdout",
          "text": [
            "[1] \"Alice\"   \"Bob\"     \"Charlie\"\n"
          ]
        }
      ]
    },
    {
      "cell_type": "code",
      "source": [
        "print(d[1])"
      ],
      "metadata": {
        "colab": {
          "base_uri": "https://localhost:8080/"
        },
        "id": "TT1qtpf_IO1B",
        "outputId": "8a1273d9-103b-4849-ef0d-a5d3b56e788c"
      },
      "execution_count": null,
      "outputs": [
        {
          "output_type": "stream",
          "name": "stdout",
          "text": [
            "     name\n",
            "1   Alice\n",
            "2     Bob\n",
            "3 Charlie\n"
          ]
        }
      ]
    },
    {
      "cell_type": "code",
      "source": [
        "print(d$name)"
      ],
      "metadata": {
        "colab": {
          "base_uri": "https://localhost:8080/"
        },
        "id": "FoEOY3VRYG21",
        "outputId": "cfa09ba7-edd1-431e-adef-142e01b78e93"
      },
      "execution_count": null,
      "outputs": [
        {
          "output_type": "stream",
          "name": "stdout",
          "text": [
            "[1] \"Alice\"   \"Bob\"     \"Charlie\"\n"
          ]
        }
      ]
    },
    {
      "cell_type": "code",
      "source": [
        "print(d$name[1])"
      ],
      "metadata": {
        "colab": {
          "base_uri": "https://localhost:8080/"
        },
        "id": "-UapSv7ZXejE",
        "outputId": "671c309b-68de-4276-a7fe-e1419204cebf"
      },
      "execution_count": null,
      "outputs": [
        {
          "output_type": "stream",
          "name": "stdout",
          "text": [
            "[1] \"Alice\"\n"
          ]
        }
      ]
    },
    {
      "cell_type": "markdown",
      "source": [
        "## NULL 사용 예제\n",
        "\n",
        "NULL은 주로 객체가 존재하지 않음을 나타낼 때 사용. is.null 함수 사용 가능"
      ],
      "metadata": {
        "id": "kj6vjAiEENXz"
      }
    },
    {
      "cell_type": "code",
      "source": [
        "# 리스트 생성\n",
        "my_list <- list(a = 1, b = 2, c = 3)\n",
        "print(my_list)"
      ],
      "metadata": {
        "colab": {
          "base_uri": "https://localhost:8080/"
        },
        "id": "cYF1_wKwXfcQ",
        "outputId": "ad4c7cff-084f-47dc-dc45-41b68921c4bd"
      },
      "execution_count": null,
      "outputs": [
        {
          "output_type": "stream",
          "name": "stdout",
          "text": [
            "$a\n",
            "[1] 1\n",
            "\n",
            "$b\n",
            "[1] 2\n",
            "\n",
            "$c\n",
            "[1] 3\n",
            "\n"
          ]
        }
      ]
    },
    {
      "cell_type": "code",
      "source": [
        "# 'b' 요소 제거\n",
        "my_list$b <- NULL\n",
        "print(my_list)"
      ],
      "metadata": {
        "colab": {
          "base_uri": "https://localhost:8080/"
        },
        "id": "E3kBkrTDEY2r",
        "outputId": "80d1efe8-4f98-4247-9031-8d8d79e7fa3d"
      },
      "execution_count": null,
      "outputs": [
        {
          "output_type": "stream",
          "name": "stdout",
          "text": [
            "$a\n",
            "[1] 1\n",
            "\n",
            "$c\n",
            "[1] 3\n",
            "\n"
          ]
        }
      ]
    },
    {
      "cell_type": "code",
      "source": [
        "# NULL 객체 검사\n",
        "x <- NULL\n",
        "is.null(x)"
      ],
      "metadata": {
        "colab": {
          "base_uri": "https://localhost:8080/",
          "height": 34
        },
        "id": "hwJQzn4zGFrT",
        "outputId": "f99547d9-7540-462f-88a2-e03830d53eec"
      },
      "execution_count": null,
      "outputs": [
        {
          "output_type": "display_data",
          "data": {
            "text/html": [
              "TRUE"
            ],
            "text/markdown": "TRUE",
            "text/latex": "TRUE",
            "text/plain": [
              "[1] TRUE"
            ]
          },
          "metadata": {}
        }
      ]
    },
    {
      "cell_type": "markdown",
      "source": [
        "## NA 사용 예제\n",
        "\n",
        "값이 존재하지 않음을 나타냄. is.na 함수를 사용할 수 있음"
      ],
      "metadata": {
        "id": "lCmtTdxqEi_F"
      }
    },
    {
      "cell_type": "code",
      "source": [
        "# 데이터 프레임 생성\n",
        "my_data <- data.frame(name = c(\"Alice\", \"Bob\", \"Charlie\"),\n",
        "                      age = c(25, NA, 35))\n",
        "\n",
        "# NA 값 찾기\n",
        "missing_age <- is.na(my_data$age)\n",
        "\n",
        "# 결측값이 있는 행 출력\n",
        "print(missing_age)\n",
        "print(my_data$age[missing_age])"
      ],
      "metadata": {
        "colab": {
          "base_uri": "https://localhost:8080/"
        },
        "id": "EDX4Hp8jEcnd",
        "outputId": "19f11c15-2ddc-439f-a782-fe2f51b632a7"
      },
      "execution_count": null,
      "outputs": [
        {
          "output_type": "stream",
          "name": "stdout",
          "text": [
            "[1] FALSE  TRUE FALSE\n",
            "[1] NA\n"
          ]
        }
      ]
    },
    {
      "cell_type": "markdown",
      "source": [
        "## 함수 생성과 사용"
      ],
      "metadata": {
        "id": "fxWCFeB0SnMY"
      }
    },
    {
      "cell_type": "code",
      "source": [
        "# 사용자 정의 함수 생성\n",
        "check_average <- function(numbers, threshold) {\n",
        "  avg <- mean(numbers, na.rm = TRUE)  # NA 값을 제외하고 평균 계산\n",
        "  return(avg > threshold)  # 평균이 임계값보다 높은지 여부를 반환\n",
        "}"
      ],
      "metadata": {
        "id": "_qMxUVVISpby"
      },
      "execution_count": null,
      "outputs": []
    },
    {
      "cell_type": "code",
      "source": [
        "# 함수 사용 예\n",
        "numbers <- c(1, 2, 3, 4, 5, NA)\n",
        "threshold <- 3\n",
        "result <- check_average(numbers, threshold)\n",
        "\n",
        "# 결과 출력\n",
        "print(result)\n"
      ],
      "metadata": {
        "colab": {
          "base_uri": "https://localhost:8080/"
        },
        "id": "Bnegjqw5Sq2Z",
        "outputId": "2ff0e1e3-7b15-41fe-c084-568709d7687f"
      },
      "execution_count": null,
      "outputs": [
        {
          "output_type": "stream",
          "name": "stdout",
          "text": [
            "[1] FALSE\n"
          ]
        }
      ]
    },
    {
      "cell_type": "markdown",
      "source": [
        "## 표준화"
      ],
      "metadata": {
        "id": "oKiNhNLeYHbw"
      }
    },
    {
      "cell_type": "code",
      "source": [
        "# 표준화 예제\n",
        "data <- c(1, 2, 3, 4, 5)\n",
        "\n",
        "# 표준화\n",
        "standardized_data <- scale(data)"
      ],
      "metadata": {
        "id": "lFaH_HYeYBoC"
      },
      "execution_count": null,
      "outputs": []
    },
    {
      "cell_type": "code",
      "source": [
        "standardized_data"
      ],
      "metadata": {
        "id": "BmD-LjVLYDFE",
        "outputId": "8b0c2265-5936-4403-c1f4-59ab93596d56",
        "colab": {
          "base_uri": "https://localhost:8080/",
          "height": 209
        }
      },
      "execution_count": null,
      "outputs": [
        {
          "output_type": "display_data",
          "data": {
            "text/html": [
              "<table class=\"dataframe\">\n",
              "<caption>A matrix: 5 × 1 of type dbl</caption>\n",
              "<tbody>\n",
              "\t<tr><td>-1.2649111</td></tr>\n",
              "\t<tr><td>-0.6324555</td></tr>\n",
              "\t<tr><td> 0.0000000</td></tr>\n",
              "\t<tr><td> 0.6324555</td></tr>\n",
              "\t<tr><td> 1.2649111</td></tr>\n",
              "</tbody>\n",
              "</table>\n"
            ],
            "text/markdown": "\nA matrix: 5 × 1 of type dbl\n\n| -1.2649111 |\n| -0.6324555 |\n|  0.0000000 |\n|  0.6324555 |\n|  1.2649111 |\n\n",
            "text/latex": "A matrix: 5 × 1 of type dbl\n\\begin{tabular}{l}\n\t -1.2649111\\\\\n\t -0.6324555\\\\\n\t  0.0000000\\\\\n\t  0.6324555\\\\\n\t  1.2649111\\\\\n\\end{tabular}\n",
            "text/plain": [
              "     [,1]      \n",
              "[1,] -1.2649111\n",
              "[2,] -0.6324555\n",
              "[3,]  0.0000000\n",
              "[4,]  0.6324555\n",
              "[5,]  1.2649111"
            ]
          },
          "metadata": {}
        }
      ]
    },
    {
      "cell_type": "markdown",
      "source": [
        "## Data Frame"
      ],
      "metadata": {
        "id": "BlVmDe_RGX8M"
      }
    },
    {
      "cell_type": "code",
      "source": [
        "d = read.csv(\"https://s3-geospatial.s3-us-west-2.amazonaws.com/train.csv\")"
      ],
      "metadata": {
        "id": "CrLtmC0SHBt5"
      },
      "execution_count": null,
      "outputs": []
    },
    {
      "cell_type": "code",
      "source": [
        "head(d)"
      ],
      "metadata": {
        "colab": {
          "base_uri": "https://localhost:8080/",
          "height": 564
        },
        "id": "FGvXGQFYHNx6",
        "outputId": "2ba21598-0098-48ed-8093-3cd5f57f8b58"
      },
      "execution_count": null,
      "outputs": [
        {
          "output_type": "display_data",
          "data": {
            "text/html": [
              "<table class=\"dataframe\">\n",
              "<caption>A data.frame: 6 × 12</caption>\n",
              "<thead>\n",
              "\t<tr><th></th><th scope=col>PassengerId</th><th scope=col>Survived</th><th scope=col>Pclass</th><th scope=col>Name</th><th scope=col>Sex</th><th scope=col>Age</th><th scope=col>SibSp</th><th scope=col>Parch</th><th scope=col>Ticket</th><th scope=col>Fare</th><th scope=col>Cabin</th><th scope=col>Embarked</th></tr>\n",
              "\t<tr><th></th><th scope=col>&lt;int&gt;</th><th scope=col>&lt;int&gt;</th><th scope=col>&lt;int&gt;</th><th scope=col>&lt;chr&gt;</th><th scope=col>&lt;chr&gt;</th><th scope=col>&lt;dbl&gt;</th><th scope=col>&lt;int&gt;</th><th scope=col>&lt;int&gt;</th><th scope=col>&lt;chr&gt;</th><th scope=col>&lt;dbl&gt;</th><th scope=col>&lt;chr&gt;</th><th scope=col>&lt;chr&gt;</th></tr>\n",
              "</thead>\n",
              "<tbody>\n",
              "\t<tr><th scope=row>1</th><td>1</td><td>0</td><td>3</td><td>Braund, Mr. Owen Harris                            </td><td>male  </td><td>22</td><td>1</td><td>0</td><td>A/5 21171       </td><td> 7.2500</td><td>    </td><td>S</td></tr>\n",
              "\t<tr><th scope=row>2</th><td>2</td><td>1</td><td>1</td><td>Cumings, Mrs. John Bradley (Florence Briggs Thayer)</td><td>female</td><td>38</td><td>1</td><td>0</td><td>PC 17599        </td><td>71.2833</td><td>C85 </td><td>C</td></tr>\n",
              "\t<tr><th scope=row>3</th><td>3</td><td>1</td><td>3</td><td>Heikkinen, Miss. Laina                             </td><td>female</td><td>26</td><td>0</td><td>0</td><td>STON/O2. 3101282</td><td> 7.9250</td><td>    </td><td>S</td></tr>\n",
              "\t<tr><th scope=row>4</th><td>4</td><td>1</td><td>1</td><td>Futrelle, Mrs. Jacques Heath (Lily May Peel)       </td><td>female</td><td>35</td><td>1</td><td>0</td><td>113803          </td><td>53.1000</td><td>C123</td><td>S</td></tr>\n",
              "\t<tr><th scope=row>5</th><td>5</td><td>0</td><td>3</td><td>Allen, Mr. William Henry                           </td><td>male  </td><td>35</td><td>0</td><td>0</td><td>373450          </td><td> 8.0500</td><td>    </td><td>S</td></tr>\n",
              "\t<tr><th scope=row>6</th><td>6</td><td>0</td><td>3</td><td>Moran, Mr. James                                   </td><td>male  </td><td>NA</td><td>0</td><td>0</td><td>330877          </td><td> 8.4583</td><td>    </td><td>Q</td></tr>\n",
              "</tbody>\n",
              "</table>\n"
            ],
            "text/markdown": "\nA data.frame: 6 × 12\n\n| <!--/--> | PassengerId &lt;int&gt; | Survived &lt;int&gt; | Pclass &lt;int&gt; | Name &lt;chr&gt; | Sex &lt;chr&gt; | Age &lt;dbl&gt; | SibSp &lt;int&gt; | Parch &lt;int&gt; | Ticket &lt;chr&gt; | Fare &lt;dbl&gt; | Cabin &lt;chr&gt; | Embarked &lt;chr&gt; |\n|---|---|---|---|---|---|---|---|---|---|---|---|---|\n| 1 | 1 | 0 | 3 | Braund, Mr. Owen Harris                             | male   | 22 | 1 | 0 | A/5 21171        |  7.2500 | <!----> | S |\n| 2 | 2 | 1 | 1 | Cumings, Mrs. John Bradley (Florence Briggs Thayer) | female | 38 | 1 | 0 | PC 17599         | 71.2833 | C85  | C |\n| 3 | 3 | 1 | 3 | Heikkinen, Miss. Laina                              | female | 26 | 0 | 0 | STON/O2. 3101282 |  7.9250 | <!----> | S |\n| 4 | 4 | 1 | 1 | Futrelle, Mrs. Jacques Heath (Lily May Peel)        | female | 35 | 1 | 0 | 113803           | 53.1000 | C123 | S |\n| 5 | 5 | 0 | 3 | Allen, Mr. William Henry                            | male   | 35 | 0 | 0 | 373450           |  8.0500 | <!----> | S |\n| 6 | 6 | 0 | 3 | Moran, Mr. James                                    | male   | NA | 0 | 0 | 330877           |  8.4583 | <!----> | Q |\n\n",
            "text/latex": "A data.frame: 6 × 12\n\\begin{tabular}{r|llllllllllll}\n  & PassengerId & Survived & Pclass & Name & Sex & Age & SibSp & Parch & Ticket & Fare & Cabin & Embarked\\\\\n  & <int> & <int> & <int> & <chr> & <chr> & <dbl> & <int> & <int> & <chr> & <dbl> & <chr> & <chr>\\\\\n\\hline\n\t1 & 1 & 0 & 3 & Braund, Mr. Owen Harris                             & male   & 22 & 1 & 0 & A/5 21171        &  7.2500 &      & S\\\\\n\t2 & 2 & 1 & 1 & Cumings, Mrs. John Bradley (Florence Briggs Thayer) & female & 38 & 1 & 0 & PC 17599         & 71.2833 & C85  & C\\\\\n\t3 & 3 & 1 & 3 & Heikkinen, Miss. Laina                              & female & 26 & 0 & 0 & STON/O2. 3101282 &  7.9250 &      & S\\\\\n\t4 & 4 & 1 & 1 & Futrelle, Mrs. Jacques Heath (Lily May Peel)        & female & 35 & 1 & 0 & 113803           & 53.1000 & C123 & S\\\\\n\t5 & 5 & 0 & 3 & Allen, Mr. William Henry                            & male   & 35 & 0 & 0 & 373450           &  8.0500 &      & S\\\\\n\t6 & 6 & 0 & 3 & Moran, Mr. James                                    & male   & NA & 0 & 0 & 330877           &  8.4583 &      & Q\\\\\n\\end{tabular}\n",
            "text/plain": [
              "  PassengerId Survived Pclass\n",
              "1 1           0        3     \n",
              "2 2           1        1     \n",
              "3 3           1        3     \n",
              "4 4           1        1     \n",
              "5 5           0        3     \n",
              "6 6           0        3     \n",
              "  Name                                                Sex    Age SibSp Parch\n",
              "1 Braund, Mr. Owen Harris                             male   22  1     0    \n",
              "2 Cumings, Mrs. John Bradley (Florence Briggs Thayer) female 38  1     0    \n",
              "3 Heikkinen, Miss. Laina                              female 26  0     0    \n",
              "4 Futrelle, Mrs. Jacques Heath (Lily May Peel)        female 35  1     0    \n",
              "5 Allen, Mr. William Henry                            male   35  0     0    \n",
              "6 Moran, Mr. James                                    male   NA  0     0    \n",
              "  Ticket           Fare    Cabin Embarked\n",
              "1 A/5 21171         7.2500       S       \n",
              "2 PC 17599         71.2833 C85   C       \n",
              "3 STON/O2. 3101282  7.9250       S       \n",
              "4 113803           53.1000 C123  S       \n",
              "5 373450            8.0500       S       \n",
              "6 330877            8.4583       Q       "
            ]
          },
          "metadata": {}
        }
      ]
    },
    {
      "cell_type": "code",
      "source": [
        "summary(d)"
      ],
      "metadata": {
        "colab": {
          "base_uri": "https://localhost:8080/",
          "height": 382
        },
        "id": "q1g4MUGmRZp0",
        "outputId": "086642ea-beda-4332-b3b7-9866d4896c58"
      },
      "execution_count": null,
      "outputs": [
        {
          "output_type": "display_data",
          "data": {
            "text/plain": [
              "  PassengerId       Survived          Pclass          Name          \n",
              " Min.   :  1.0   Min.   :0.0000   Min.   :1.000   Length:891        \n",
              " 1st Qu.:223.5   1st Qu.:0.0000   1st Qu.:2.000   Class :character  \n",
              " Median :446.0   Median :0.0000   Median :3.000   Mode  :character  \n",
              " Mean   :446.0   Mean   :0.3838   Mean   :2.309                     \n",
              " 3rd Qu.:668.5   3rd Qu.:1.0000   3rd Qu.:3.000                     \n",
              " Max.   :891.0   Max.   :1.0000   Max.   :3.000                     \n",
              "     Sex                 Age            SibSp           Parch       \n",
              " Length:891         Min.   : 0.42   Min.   :0.000   Min.   :0.0000  \n",
              " Class :character   1st Qu.:22.00   1st Qu.:0.000   1st Qu.:0.0000  \n",
              " Mode  :character   Median :29.70   Median :0.000   Median :0.0000  \n",
              "                    Mean   :29.70   Mean   :0.523   Mean   :0.3816  \n",
              "                    3rd Qu.:35.00   3rd Qu.:1.000   3rd Qu.:0.0000  \n",
              "                    Max.   :80.00   Max.   :8.000   Max.   :6.0000  \n",
              "    Ticket               Fare           Cabin             Embarked        \n",
              " Length:891         Min.   :  0.00   Length:891         Length:891        \n",
              " Class :character   1st Qu.:  7.91   Class :character   Class :character  \n",
              " Mode  :character   Median : 14.45   Mode  :character   Mode  :character  \n",
              "                    Mean   : 32.20                                        \n",
              "                    3rd Qu.: 31.00                                        \n",
              "                    Max.   :512.33                                        "
            ]
          },
          "metadata": {}
        }
      ]
    },
    {
      "cell_type": "code",
      "source": [
        "str(d)"
      ],
      "metadata": {
        "colab": {
          "base_uri": "https://localhost:8080/"
        },
        "id": "_U7DvnA-Rc2U",
        "outputId": "63d64284-5c2e-4e30-f5d3-f34d65ec7f08"
      },
      "execution_count": null,
      "outputs": [
        {
          "output_type": "stream",
          "name": "stdout",
          "text": [
            "'data.frame':\t891 obs. of  12 variables:\n",
            " $ PassengerId: int  1 2 3 4 5 6 7 8 9 10 ...\n",
            " $ Survived   : int  0 1 1 1 0 0 0 0 1 1 ...\n",
            " $ Pclass     : int  3 1 3 1 3 3 1 3 3 2 ...\n",
            " $ Name       : chr  \"Braund, Mr. Owen Harris\" \"Cumings, Mrs. John Bradley (Florence Briggs Thayer)\" \"Heikkinen, Miss. Laina\" \"Futrelle, Mrs. Jacques Heath (Lily May Peel)\" ...\n",
            " $ Sex        : chr  \"male\" \"female\" \"female\" \"female\" ...\n",
            " $ Age        : num  22 38 26 35 35 ...\n",
            " $ SibSp      : int  1 1 0 1 0 0 0 3 0 1 ...\n",
            " $ Parch      : int  0 0 0 0 0 0 0 1 2 0 ...\n",
            " $ Ticket     : chr  \"A/5 21171\" \"PC 17599\" \"STON/O2. 3101282\" \"113803\" ...\n",
            " $ Fare       : num  7.25 71.28 7.92 53.1 8.05 ...\n",
            " $ Cabin      : chr  \"\" \"C85\" \"\" \"C123\" ...\n",
            " $ Embarked   : chr  \"S\" \"C\" \"S\" \"S\" ...\n"
          ]
        }
      ]
    },
    {
      "cell_type": "code",
      "source": [
        "print(d$Pclass[1])"
      ],
      "metadata": {
        "colab": {
          "base_uri": "https://localhost:8080/"
        },
        "id": "3dSc51dEHPUn",
        "outputId": "5e8a44f6-6e44-41b4-c4ed-80ee8260cc32"
      },
      "execution_count": null,
      "outputs": [
        {
          "output_type": "stream",
          "name": "stdout",
          "text": [
            "[1] 3\n"
          ]
        }
      ]
    },
    {
      "cell_type": "code",
      "source": [
        "# %>% 문법 이해하기 - 생존자 평균 나이 구해보기\n",
        "library(dplyr)"
      ],
      "metadata": {
        "id": "Kn7TFW7cHfHT"
      },
      "execution_count": null,
      "outputs": []
    },
    {
      "cell_type": "code",
      "source": [
        "survived_age <- d %>% filter(Survived == 1) %>% summarize(AverageAge = mean(Age, na.rm = TRUE))"
      ],
      "metadata": {
        "id": "Zq3r3YLSJNAT"
      },
      "execution_count": null,
      "outputs": []
    },
    {
      "cell_type": "code",
      "source": [
        "print(survived_age)"
      ],
      "metadata": {
        "colab": {
          "base_uri": "https://localhost:8080/"
        },
        "id": "1lMt9J2-Hvtl",
        "outputId": "43ee088a-68ca-4dc3-fb03-f2cfc96a34bf"
      },
      "execution_count": null,
      "outputs": [
        {
          "output_type": "stream",
          "name": "stdout",
          "text": [
            "  AverageAge\n",
            "1   28.34369\n"
          ]
        }
      ]
    },
    {
      "cell_type": "code",
      "source": [
        "non_survived_age <- d %>% filter(Survived == 0) %>% summarize(AverageAge = mean(Age, na.rm = TRUE))"
      ],
      "metadata": {
        "id": "rfWlyvVSJsbu"
      },
      "execution_count": null,
      "outputs": []
    },
    {
      "cell_type": "code",
      "source": [
        "print(non_survived_age)"
      ],
      "metadata": {
        "colab": {
          "base_uri": "https://localhost:8080/"
        },
        "id": "qlu4p7p7KF1F",
        "outputId": "8aa6ad33-0f6f-42bc-e523-d87ed3e3cd4b"
      },
      "execution_count": null,
      "outputs": [
        {
          "output_type": "stream",
          "name": "stdout",
          "text": [
            "  AverageAge\n",
            "1   30.62618\n"
          ]
        }
      ]
    },
    {
      "cell_type": "code",
      "source": [
        "non_survived_age = summarize(filter(d, Survived == 0), AverageAge = mean(Age, na.rm = TRUE))"
      ],
      "metadata": {
        "id": "pMvaoClUKH8V"
      },
      "execution_count": null,
      "outputs": []
    },
    {
      "cell_type": "code",
      "source": [
        "print(non_survived_age)"
      ],
      "metadata": {
        "colab": {
          "base_uri": "https://localhost:8080/"
        },
        "id": "pp6lRLfQKUTz",
        "outputId": "ef1a4cbe-bcb9-4179-91a0-cdca3d88140c"
      },
      "execution_count": null,
      "outputs": [
        {
          "output_type": "stream",
          "name": "stdout",
          "text": [
            "  AverageAge\n",
            "1   30.62618\n"
          ]
        }
      ]
    },
    {
      "cell_type": "code",
      "source": [
        "sum(is.na(d$Age))"
      ],
      "metadata": {
        "colab": {
          "base_uri": "https://localhost:8080/",
          "height": 34
        },
        "id": "XCGH3FKQK5ZE",
        "outputId": "1ac73ea0-9280-4c6c-a44f-d9601940fb63"
      },
      "execution_count": null,
      "outputs": [
        {
          "output_type": "display_data",
          "data": {
            "text/html": [
              "177"
            ],
            "text/markdown": "177",
            "text/latex": "177",
            "text/plain": [
              "[1] 177"
            ]
          },
          "metadata": {}
        }
      ]
    },
    {
      "cell_type": "code",
      "source": [
        "d$Age <- ifelse(is.na(d$Age), mean(d$Age, na.rm = TRUE), d$Age)"
      ],
      "metadata": {
        "id": "ocXMObL8KVdu"
      },
      "execution_count": null,
      "outputs": []
    },
    {
      "cell_type": "code",
      "source": [
        "sum(is.na(d$Age))"
      ],
      "metadata": {
        "colab": {
          "base_uri": "https://localhost:8080/",
          "height": 34
        },
        "id": "f7z8di3VK9-H",
        "outputId": "6d236512-93f4-438c-c80a-f41af2b70919"
      },
      "execution_count": null,
      "outputs": [
        {
          "output_type": "display_data",
          "data": {
            "text/html": [
              "0"
            ],
            "text/markdown": "0",
            "text/latex": "0",
            "text/plain": [
              "[1] 0"
            ]
          },
          "metadata": {}
        }
      ]
    }
  ]
}